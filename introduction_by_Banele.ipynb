{
 "cells": [
  {
   "cell_type": "markdown",
   "id": "86d1f452",
   "metadata": {},
   "source": [
    "#### Understanding deep learning with `python` "
   ]
  },
  {
   "cell_type": "markdown",
   "id": "587ee85e",
   "metadata": {},
   "source": [
    "<p align=\"center\"><img width=\"200\" src=\"milky way.png\" alt=\"img\"/></p>"
   ]
  },
  {
   "cell_type": "code",
   "execution_count": null,
   "id": "0b79e28f",
   "metadata": {},
   "outputs": [],
   "source": []
  },
  {
   "cell_type": "code",
   "execution_count": null,
   "id": "c8792697",
   "metadata": {},
   "outputs": [],
   "source": []
  },
  {
   "cell_type": "code",
   "execution_count": null,
   "id": "cda9bd5f",
   "metadata": {},
   "outputs": [],
   "source": []
  },
  {
   "cell_type": "code",
   "execution_count": null,
   "id": "bd493bc6",
   "metadata": {},
   "outputs": [],
   "source": []
  },
  {
   "cell_type": "code",
   "execution_count": null,
   "id": "5d05b4b3",
   "metadata": {},
   "outputs": [],
   "source": []
  },
  {
   "cell_type": "code",
   "execution_count": null,
   "id": "7d07a4ca",
   "metadata": {},
   "outputs": [],
   "source": []
  },
  {
   "cell_type": "code",
   "execution_count": 4,
   "id": "cb10b225",
   "metadata": {},
   "outputs": [
    {
     "data": {
      "text/plain": [
       "'Happy28Banele'"
      ]
     },
     "execution_count": 4,
     "metadata": {},
     "output_type": "execute_result"
    }
   ],
   "source": [
    "age =28\n",
    "message = \"Happy \".strip() + str(age) +  \"    Banele\".strip()\n",
    "message "
   ]
  },
  {
   "cell_type": "code",
   "execution_count": 5,
   "id": "477a8d6f",
   "metadata": {},
   "outputs": [
    {
     "data": {
      "text/plain": [
       "['bens', 'aud', 'tazz', 'Tesla', 'merceedez']"
      ]
     },
     "execution_count": 5,
     "metadata": {},
     "output_type": "execute_result"
    }
   ],
   "source": [
    "cars = [\"bens\",\"aud\",\"tazz\",\"Tesla\",\"merceedez\"]\n",
    "cars"
   ]
  },
  {
   "cell_type": "code",
   "execution_count": 6,
   "id": "769259f7",
   "metadata": {},
   "outputs": [
    {
     "name": "stdout",
     "output_type": "stream",
     "text": [
      "The car is: merceedez\n"
     ]
    }
   ],
   "source": [
    "print(\"The car is: \"+ cars[-1])"
   ]
  },
  {
   "cell_type": "code",
   "execution_count": 11,
   "id": "84923f79",
   "metadata": {},
   "outputs": [
    {
     "name": "stdout",
     "output_type": "stream",
     "text": [
      "The car is: tazz\n"
     ]
    }
   ],
   "source": [
    "print(\"The car is: \"+ cars[2])"
   ]
  },
  {
   "cell_type": "markdown",
   "id": "a8c2877c",
   "metadata": {},
   "source": [
    "Modifying the elements in a list like adding deleting etc."
   ]
  },
  {
   "cell_type": "code",
   "execution_count": 7,
   "id": "492fff8f",
   "metadata": {},
   "outputs": [
    {
     "data": {
      "text/plain": [
       "['tiguan', 'aud', 'tazz', 'Tesla', 'merceedez']"
      ]
     },
     "execution_count": 7,
     "metadata": {},
     "output_type": "execute_result"
    }
   ],
   "source": [
    "cars[0]=\"tiguan\"\n",
    "cars"
   ]
  },
  {
   "cell_type": "markdown",
   "id": "67df83fa",
   "metadata": {},
   "source": [
    "if adding element in the list they are only appended at the end of the list only one argument the `.append` function takes"
   ]
  },
  {
   "cell_type": "code",
   "execution_count": 9,
   "id": "da4372b3",
   "metadata": {},
   "outputs": [
    {
     "data": {
      "text/plain": [
       "['tiguan', 'aud', 'tazz', 'Tesla', 'merceedez', 'BMW']"
      ]
     },
     "execution_count": 9,
     "metadata": {},
     "output_type": "execute_result"
    }
   ],
   "source": [
    "cars.append(\"BMW\")\n",
    "cars"
   ]
  },
  {
   "cell_type": "markdown",
   "id": "a9dbbcc8",
   "metadata": {},
   "source": [
    "**inserting the elements into the list by using the `insect()` method, you just specify the index of the new element\n",
    "and the value to be inserted as follows:**"
   ]
  },
  {
   "cell_type": "code",
   "execution_count": 11,
   "id": "b753e44b",
   "metadata": {},
   "outputs": [
    {
     "data": {
      "text/plain": [
       "['corola', 'tiguan', 'aud', 'tazz', 'Tesla', 'merceedez', 'BMW']"
      ]
     },
     "execution_count": 11,
     "metadata": {},
     "output_type": "execute_result"
    }
   ],
   "source": [
    "cars.insert(0,\"corola\")\n",
    "cars"
   ]
  },
  {
   "cell_type": "markdown",
   "id": "e8573bd4",
   "metadata": {},
   "source": [
    "**If you know the position of the item you want to remove from a list, you can \n",
    "use the `del` statement.**"
   ]
  },
  {
   "cell_type": "code",
   "execution_count": 12,
   "id": "94be66ac",
   "metadata": {},
   "outputs": [
    {
     "data": {
      "text/plain": [
       "['corola', 'aud', 'tazz', 'Tesla', 'merceedez', 'BMW']"
      ]
     },
     "execution_count": 12,
     "metadata": {},
     "output_type": "execute_result"
    }
   ],
   "source": [
    "del cars[1] #target tiguan\n",
    "cars"
   ]
  },
  {
   "cell_type": "code",
   "execution_count": 36,
   "id": "116f7393",
   "metadata": {},
   "outputs": [
    {
     "data": {
      "text/plain": [
       "'Corola'"
      ]
     },
     "execution_count": 36,
     "metadata": {},
     "output_type": "execute_result"
    }
   ],
   "source": [
    "cars[-3].title()\n"
   ]
  },
  {
   "cell_type": "markdown",
   "id": "a890381f",
   "metadata": {},
   "source": [
    "You can use the `sort()` method to arrange the elements in a list alphabetical as ff:"
   ]
  },
  {
   "cell_type": "code",
   "execution_count": 16,
   "id": "d6125da6",
   "metadata": {},
   "outputs": [
    {
     "data": {
      "text/plain": [
       "['BMW', 'Tesla', 'aud', 'corola', 'merceedez', 'tazz']"
      ]
     },
     "execution_count": 16,
     "metadata": {},
     "output_type": "execute_result"
    }
   ],
   "source": [
    "cars.sort()\n",
    "cars"
   ]
  },
  {
   "cell_type": "code",
   "execution_count": 22,
   "id": "8fdaabba",
   "metadata": {},
   "outputs": [],
   "source": [
    "#new list of cars name car that we are working with now\n",
    "car = ['toyota','bmw','tesla','aud','tazz']"
   ]
  },
  {
   "cell_type": "markdown",
   "id": "8b60f6eb",
   "metadata": {},
   "source": [
    "##### Understanding the if statement with python"
   ]
  },
  {
   "cell_type": "code",
   "execution_count": 42,
   "id": "cc7ec608",
   "metadata": {},
   "outputs": [
    {
     "name": "stdout",
     "output_type": "stream",
     "text": [
      "toyota\n",
      "bmw\n",
      "tesla\n",
      "aud\n",
      "tazz\n"
     ]
    },
    {
     "data": {
      "text/plain": [
       "'tazz'"
      ]
     },
     "execution_count": 42,
     "metadata": {},
     "output_type": "execute_result"
    }
   ],
   "source": [
    "#new list of cars name car that we are working with now\n",
    "car = ['toyota','bmw','tesla','aud','tazz']\n",
    "\n",
    "car[0].upper()\n",
    "for i in car:\n",
    "    print(i)\n",
    "    \n",
    "\n",
    "\n",
    "\n",
    "\n",
    "#     if i == 'bmw':\n",
    "#         print(car.upper()) \n",
    "#     else:\n",
    "#         print(car)\n",
    "            \n",
    "\n",
    "\n",
    "# c"
   ]
  },
  {
   "cell_type": "code",
   "execution_count": null,
   "id": "a4c9dadf",
   "metadata": {},
   "outputs": [],
   "source": []
  },
  {
   "cell_type": "code",
   "execution_count": null,
   "id": "9cb6373f",
   "metadata": {},
   "outputs": [],
   "source": []
  }
 ],
 "metadata": {
  "kernelspec": {
   "display_name": "Python 3 (ipykernel)",
   "language": "python",
   "name": "python3"
  },
  "language_info": {
   "codemirror_mode": {
    "name": "ipython",
    "version": 3
   },
   "file_extension": ".py",
   "mimetype": "text/x-python",
   "name": "python",
   "nbconvert_exporter": "python",
   "pygments_lexer": "ipython3",
   "version": "3.9.13"
  }
 },
 "nbformat": 4,
 "nbformat_minor": 5
}
